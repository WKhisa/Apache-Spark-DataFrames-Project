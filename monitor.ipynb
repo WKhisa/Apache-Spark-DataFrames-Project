{
  "nbformat": 4,
  "nbformat_minor": 0,
  "metadata": {
    "colab": {
      "provenance": [],
      "authorship_tag": "ABX9TyO87B77AXg/TA7p6njNoyjU",
      "include_colab_link": true
    },
    "kernelspec": {
      "name": "python3",
      "display_name": "Python 3"
    },
    "language_info": {
      "name": "python"
    }
  },
  "cells": [
    {
      "cell_type": "markdown",
      "metadata": {
        "id": "view-in-github",
        "colab_type": "text"
      },
      "source": [
        "<a href=\"https://colab.research.google.com/github/WKhisa/Apache-Spark-DataFrames-Project/blob/main/monitor.ipynb\" target=\"_parent\"><img src=\"https://colab.research.google.com/assets/colab-badge.svg\" alt=\"Open In Colab\"/></a>"
      ]
    },
    {
      "cell_type": "code",
      "execution_count": null,
      "metadata": {
        "id": "nZc5_UDSbA1P"
      },
      "outputs": [],
      "source": [
        "import streamlit as st\n",
        "from kafka import KafkaConsumer\n",
        "\n",
        "# Kafka consumer configuration\n",
        "bootstrap_servers = 'broker:29092'\n",
        "topic_name = 'processed-data'\n",
        "\n",
        "# Set up Kafka consumer\n",
        "consumer = KafkaConsumer(\n",
        "    topic_name,\n",
        "    bootstrap_servers=bootstrap_servers,\n",
        "    value_deserializer=lambda x: x.decode('utf-8')\n",
        ")\n",
        "\n",
        "# Set up Streamlit app\n",
        "st.title('Network Traffic Analysis Dashboard')\n",
        "\n",
        "# Read and display the processed data from Kafka topic\n",
        "for message in consumer:\n",
        "    window, source_ip, total_bytes_sent = message.value.split(',')\n",
        "    st.write('Window:', window)\n",
        "    st.write('Source IP:', source_ip)\n",
        "    st.write('Total Bytes Sent:', total_bytes_sent)\n",
        "    st.write('---')\n"
      ]
    }
  ]
}