{
  "nbformat": 4,
  "nbformat_minor": 0,
  "metadata": {
    "colab": {
      "provenance": [],
      "toc_visible": true,
      "include_colab_link": true
    },
    "kernelspec": {
      "name": "python3",
      "display_name": "Python 3"
    },
    "language_info": {
      "name": "python"
    }
  },
  "cells": [
    {
      "cell_type": "markdown",
      "metadata": {
        "id": "view-in-github",
        "colab_type": "text"
      },
      "source": [
        "<a href=\"https://colab.research.google.com/github/WKhisa/Apache-Spark-DataFrames-Project/blob/main/Sample_Starter_Code_Basic_Stream_Processing_with_Spark_Streaming.ipynb\" target=\"_parent\"><img src=\"https://colab.research.google.com/assets/colab-badge.svg\" alt=\"Open In Colab\"/></a>"
      ]
    },
    {
      "cell_type": "markdown",
      "source": [
        "# Sample Starter Code: Basic Stream Processing with Spark Streaming"
      ],
      "metadata": {
        "id": "QTA9ud9w9v7b"
      }
    },
    {
      "cell_type": "markdown",
      "source": [
        "Here's some sample code in Python using the kafka-python package for generating network traffic data and publishing it to the Kafka topic."
      ],
      "metadata": {
        "id": "nfHJxZT99p7U"
      }
    },
    {
      "cell_type": "code",
      "execution_count": null,
      "metadata": {
        "id": "CzJElljY9Rww"
      },
      "outputs": [],
      "source": [
        "from kafka import KafkaProducer\n",
        "import time\n",
        "import random\n",
        "\n",
        "# Kafka producer configuration\n",
        "bootstrap_servers = '<confluent_cloud_bootstrap_servers>'\n",
        "sasl_username = '<confluent_cloud_username>'\n",
        "sasl_password = '<confluent_cloud_password>'\n",
        "topic_name = 'network-traffic'\n",
        "\n",
        "producer = KafkaProducer(\n",
        "    bootstrap_servers=bootstrap_servers,\n",
        "    security_protocol='SASL_SSL',\n",
        "    sasl_mechanism='PLAIN',\n",
        "    sasl_plain_username=sasl_username,\n",
        "    sasl_plain_password=sasl_password\n",
        ")\n",
        "\n",
        "# Generate and publish network traffic data to Kafka topic\n",
        "while True:\n",
        "    # Generate random network traffic data\n",
        "    source_ip = '.'.join(str(random.randint(0, 255)) for _ in range(4))\n",
        "    destination_ip = '.'.join(str(random.randint(0, 255)) for _ in range(4))\n",
        "    bytes_sent = random.randint(1000, 100000)\n",
        "\n",
        "    # Publish network traffic data to Kafka topic\n",
        "    producer.send(topic_name, f\"{source_ip},{destination_ip},{bytes_sent}\".encode('utf-8'))\n",
        "\n",
        "    # Wait for 1 second before generating next network traffic data\n",
        "    time.sleep(1)"
      ]
    }
  ]
}