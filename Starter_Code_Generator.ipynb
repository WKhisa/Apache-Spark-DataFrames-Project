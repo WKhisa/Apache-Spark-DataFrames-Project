{
  "nbformat": 4,
  "nbformat_minor": 0,
  "metadata": {
    "colab": {
      "provenance": [],
      "toc_visible": true,
      "include_colab_link": true
    },
    "kernelspec": {
      "name": "python3",
      "display_name": "Python 3"
    },
    "language_info": {
      "name": "python"
    }
  },
  "cells": [
    {
      "cell_type": "markdown",
      "metadata": {
        "id": "view-in-github",
        "colab_type": "text"
      },
      "source": [
        "<a href=\"https://colab.research.google.com/github/WKhisa/Apache-Spark-DataFrames-Project/blob/main/Starter_Code_Generator.ipynb\" target=\"_parent\"><img src=\"https://colab.research.google.com/assets/colab-badge.svg\" alt=\"Open In Colab\"/></a>"
      ]
    },
    {
      "cell_type": "markdown",
      "source": [
        "# Sample Starter Code: Basic Stream Processing with Spark Streaming"
      ],
      "metadata": {
        "id": "QTA9ud9w9v7b"
      }
    },
    {
      "cell_type": "markdown",
      "source": [
        "Here's some sample code in Python using the kafka-python package for generating network traffic data and publishing it to the Kafka topic."
      ],
      "metadata": {
        "id": "nfHJxZT99p7U"
      }
    },
    {
      "cell_type": "code",
      "execution_count": null,
      "metadata": {
        "id": "CzJElljY9Rww"
      },
      "outputs": [],
      "source": [
        "from kafka import KafkaProducer, KafkaAdminClient\n",
        "from kafka.admin import NewTopic\n",
        "import time\n",
        "import random\n",
        "\n",
        "\n",
        "# Kafka producer configuration\n",
        "bootstrap_servers = 'broker:29092'\n",
        "topic_names = ['network-traffic', 'processed-data']\n",
        "\n",
        "producer = KafkaProducer(\n",
        "    bootstrap_servers=bootstrap_servers,\n",
        ")\n",
        "\n",
        "# Function to create topics if they do not exist\n",
        "def create_topics_if_not_exist(admin_client, topic_names):\n",
        "    for topic_name in topic_names:\n",
        "        if topic_name not in admin_client.list_topics():\n",
        "            try:\n",
        "                topic = NewTopic(name=topic_name, num_partitions=1, replication_factor=1)\n",
        "                admin_client.create_topics([topic])\n",
        "                print(f\"Created topic: {topic_name}\")\n",
        "            except Exception as e:\n",
        "                print(f\"Failed to create topic {topic_name}: {e}\")\n",
        "\n",
        "# Create an admin client\n",
        "admin_client = KafkaAdminClient(bootstrap_servers=bootstrap_servers)\n",
        "\n",
        "# Create network-traffic and processed-data topics if they do not exist\n",
        "create_topics_if_not_exist(admin_client, topic_names)\n",
        "\n",
        "\n",
        "# Generate and publish network traffic data to Kafka topic\n",
        "while True:\n",
        "    # Generate random network traffic data\n",
        "    source_ip = '.'.join(str(random.randint(0, 255)) for _ in range(4))\n",
        "    destination_ip = '.'.join(str(random.randint(0, 255)) for _ in range(4))\n",
        "    bytes_sent = random.randint(1000, 100000)\n",
        "\n",
        "    # Publish network traffic data to Kafka topic\n",
        "    for topic_name in topic_names:\n",
        "        producer.send(topic_name, f\"{source_ip},{destination_ip},{bytes_sent}\".encode('utf-8'))\n",
        "        print(f\"Published data to {topic_name}\")\n",
        "\n",
        "    # Wait for 1 second before generating the next network traffic data\n",
        "    time.sleep(1)"
      ]
    }
  ]
}