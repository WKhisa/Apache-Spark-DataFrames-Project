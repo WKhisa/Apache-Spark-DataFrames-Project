{
  "nbformat": 4,
  "nbformat_minor": 0,
  "metadata": {
    "colab": {
      "provenance": [],
      "authorship_tag": "ABX9TyMLIiHoOgn9IPnyDnB6xG4L",
      "include_colab_link": true
    },
    "kernelspec": {
      "name": "python3",
      "display_name": "Python 3"
    },
    "language_info": {
      "name": "python"
    }
  },
  "cells": [
    {
      "cell_type": "markdown",
      "metadata": {
        "id": "view-in-github",
        "colab_type": "text"
      },
      "source": [
        "<a href=\"https://colab.research.google.com/github/WKhisa/Apache-Spark-DataFrames-Project/blob/main/Apache_Spark_DataFrames_Project.ipynb\" target=\"_parent\"><img src=\"https://colab.research.google.com/assets/colab-badge.svg\" alt=\"Open In Colab\"/></a>"
      ]
    },
    {
      "cell_type": "code",
      "execution_count": null,
      "metadata": {
        "colab": {
          "base_uri": "https://localhost:8080/"
        },
        "id": "Bc6KWBPq8cb3",
        "outputId": "f9723fad-2e1a-4645-bb45-0ec260e7d017"
      },
      "outputs": [
        {
          "output_type": "stream",
          "name": "stdout",
          "text": [
            "Collecting pyspark\n",
            "  Downloading pyspark-3.4.1.tar.gz (310.8 MB)\n",
            "\u001b[2K     \u001b[90m━━━━━━━━━━━━━━━━━━━━━━━━━━━━━━━━━━━━━━━\u001b[0m \u001b[32m310.8/310.8 MB\u001b[0m \u001b[31m2.5 MB/s\u001b[0m eta \u001b[36m0:00:00\u001b[0m\n",
            "\u001b[?25h  Preparing metadata (setup.py) ... \u001b[?25l\u001b[?25hdone\n",
            "Requirement already satisfied: py4j==0.10.9.7 in /usr/local/lib/python3.10/dist-packages (from pyspark) (0.10.9.7)\n",
            "Building wheels for collected packages: pyspark\n",
            "  Building wheel for pyspark (setup.py) ... \u001b[?25l\u001b[?25hdone\n",
            "  Created wheel for pyspark: filename=pyspark-3.4.1-py2.py3-none-any.whl size=311285388 sha256=6b46214c959323d73d063bd715ddf1a913a0b3599f945667b091f1ef34c38c8d\n",
            "  Stored in directory: /root/.cache/pip/wheels/0d/77/a3/ff2f74cc9ab41f8f594dabf0579c2a7c6de920d584206e0834\n",
            "Successfully built pyspark\n",
            "Installing collected packages: pyspark\n",
            "Successfully installed pyspark-3.4.1\n"
          ]
        }
      ],
      "source": [
        "# Installing pyspark\n",
        "!pip install pyspark"
      ]
    },
    {
      "cell_type": "code",
      "source": [
        "#Execute Pyspark session\n",
        "from pyspark.sql import SparkSession, SQLContext\n",
        "from pyspark import SparkFiles\n",
        "spark = SparkSession.builder.master(\"local[*]\").getOrCreate()\n",
        "sc = spark.sparkContext"
      ],
      "metadata": {
        "id": "MfyPt7uv9rYo"
      },
      "execution_count": null,
      "outputs": []
    },
    {
      "cell_type": "markdown",
      "source": [
        "# Import and Preview Data"
      ],
      "metadata": {
        "id": "2yqcDxI5-GMv"
      }
    },
    {
      "cell_type": "code",
      "source": [
        "#Import Data\n",
        "from pyspark import SparkFiles\n",
        "\n",
        "sqlCtx = SQLContext(sc)\n",
        "spark.sparkContext.addFile(\"saf_stock.csv\")\n",
        "saf_stock_df = spark.read.options(header=True, inferSchema='True', delimiter=',', dateFormat='yyyy-mm-dd').csv(\"file://\" + SparkFiles.get(\"saf_stock.csv\"))\n",
        "\n",
        "saf_stock_df.createOrReplaceTempView('saf_stock')\n",
        "tables = sqlCtx.tableNames()\n",
        "print(tables)"
      ],
      "metadata": {
        "id": "8mMKhj_F-NMu",
        "colab": {
          "base_uri": "https://localhost:8080/"
        },
        "outputId": "6a33554c-2283-4abb-ac2c-5aa8599677ca"
      },
      "execution_count": 4,
      "outputs": [
        {
          "output_type": "stream",
          "name": "stderr",
          "text": [
            "/usr/local/lib/python3.10/dist-packages/pyspark/sql/context.py:112: FutureWarning: Deprecated in 3.0.0. Use SparkSession.builder.getOrCreate() instead.\n",
            "  warnings.warn(\n"
          ]
        },
        {
          "output_type": "stream",
          "name": "stdout",
          "text": [
            "['saf_stock']\n"
          ]
        }
      ]
    },
    {
      "cell_type": "code",
      "source": [
        "#check columns\n",
        "saf_stock_df.columns"
      ],
      "metadata": {
        "id": "NePbidaC-ENP",
        "colab": {
          "base_uri": "https://localhost:8080/"
        },
        "outputId": "83772d2c-9b1f-4cd9-cb85-e59a147a57ed"
      },
      "execution_count": 5,
      "outputs": [
        {
          "output_type": "execute_result",
          "data": {
            "text/plain": [
              "['Date', 'Open', 'High', 'Low', 'Close', 'Volume', 'Adj Close']"
            ]
          },
          "metadata": {},
          "execution_count": 5
        }
      ]
    },
    {
      "cell_type": "code",
      "source": [
        "saf_stock_df.show(5)"
      ],
      "metadata": {
        "colab": {
          "base_uri": "https://localhost:8080/"
        },
        "id": "Og4vUGFc_3NZ",
        "outputId": "68eb0e7a-59b4-465a-db57-55df9064872a"
      },
      "execution_count": 7,
      "outputs": [
        {
          "output_type": "stream",
          "name": "stdout",
          "text": [
            "+----------+------------------+---------+---------+------------------+--------+------------------+\n",
            "|      Date|              Open|     High|      Low|             Close|  Volume|         Adj Close|\n",
            "+----------+------------------+---------+---------+------------------+--------+------------------+\n",
            "|2012-01-03|         59.970001|61.060001|59.869999|         60.330002|12668800|52.619234999999996|\n",
            "|2012-01-04|60.209998999999996|60.349998|59.470001|59.709998999999996| 9593300|         52.078475|\n",
            "|2012-01-05|         59.349998|59.619999|58.369999|         59.419998|12768200|         51.825539|\n",
            "|2012-01-06|         59.419998|59.450001|58.869999|              59.0| 8069400|          51.45922|\n",
            "|2012-01-09|         59.029999|59.549999|58.919998|             59.18| 6679300|51.616215000000004|\n",
            "+----------+------------------+---------+---------+------------------+--------+------------------+\n",
            "only showing top 5 rows\n",
            "\n"
          ]
        }
      ]
    },
    {
      "cell_type": "code",
      "source": [
        "saf_stock_df.describe().show()"
      ],
      "metadata": {
        "colab": {
          "base_uri": "https://localhost:8080/"
        },
        "id": "tfItJOed__Em",
        "outputId": "e169f862-2fd4-4a39-d02e-27930010a48d"
      },
      "execution_count": 8,
      "outputs": [
        {
          "output_type": "stream",
          "name": "stdout",
          "text": [
            "+-------+------------------+-----------------+-----------------+-----------------+-----------------+-----------------+\n",
            "|summary|              Open|             High|              Low|            Close|           Volume|        Adj Close|\n",
            "+-------+------------------+-----------------+-----------------+-----------------+-----------------+-----------------+\n",
            "|  count|              1258|             1258|             1258|             1258|             1258|             1258|\n",
            "|   mean| 72.35785375357709|72.83938807631165| 71.9186009594594|72.38844998012726|8222093.481717011|67.23883848728146|\n",
            "| stddev|  6.76809024470826|6.768186808159218|6.744075756255496|6.756859163732991|  4519780.8431556|6.722609449996857|\n",
            "|    min|56.389998999999996|        57.060001|        56.299999|        56.419998|          2094900|        50.363689|\n",
            "|    max|         90.800003|        90.970001|            89.25|        90.470001|         80898100|84.91421600000001|\n",
            "+-------+------------------+-----------------+-----------------+-----------------+-----------------+-----------------+\n",
            "\n"
          ]
        }
      ]
    },
    {
      "cell_type": "markdown",
      "source": [
        "# Data Preparation"
      ],
      "metadata": {
        "id": "S8HGbP8HAOtm"
      }
    },
    {
      "cell_type": "code",
      "source": [
        "# Format data to 2 decimal places\n",
        "from pyspark.sql.functions import format_number\n",
        "\n",
        "saf_stock_df = saf_stock_df.select(\"Date\",\n",
        "               format_number(\"Open\", 2).alias(\"Open\"),\n",
        "                format_number(\"High\", 2).alias(\"High\"),\n",
        "                format_number(\"Low\", 2).alias(\"Low\"),\n",
        "                format_number(\"Close\", 2).alias(\"Close\"),\n",
        "                format_number(\"Volume\", 2).alias(\"Volume\"),\n",
        "                format_number(\"Adj Close\", 2).alias(\"Adj Close\")\n",
        "                )\n",
        "saf_stock_df.show(3)"
      ],
      "metadata": {
        "colab": {
          "base_uri": "https://localhost:8080/"
        },
        "id": "OA8jW748ANp0",
        "outputId": "50beb85b-d4f5-46a4-fc87-55b88e3adbd4"
      },
      "execution_count": 9,
      "outputs": [
        {
          "output_type": "stream",
          "name": "stdout",
          "text": [
            "+----------+-----+-----+-----+-----+-------------+---------+\n",
            "|      Date| Open| High|  Low|Close|       Volume|Adj Close|\n",
            "+----------+-----+-----+-----+-----+-------------+---------+\n",
            "|2012-01-03|59.97|61.06|59.87|60.33|12,668,800.00|    52.62|\n",
            "|2012-01-04|60.21|60.35|59.47|59.71| 9,593,300.00|    52.08|\n",
            "|2012-01-05|59.35|59.62|58.37|59.42|12,768,200.00|    51.83|\n",
            "+----------+-----+-----+-----+-----+-------------+---------+\n",
            "only showing top 3 rows\n",
            "\n"
          ]
        }
      ]
    },
    {
      "cell_type": "code",
      "source": [
        "#Create new dataframe\n",
        "newsaf_stock_df = saf_stock_df.withColumn(\"HV Ratio\",saf_stock_df['High']/saf_stock_df['Volume'])\n",
        "saf_stock_df.show()"
      ],
      "metadata": {
        "colab": {
          "base_uri": "https://localhost:8080/"
        },
        "id": "HFTaNTQRA25R",
        "outputId": "c290cf84-f44d-4f91-dd98-a0c749893566"
      },
      "execution_count": 13,
      "outputs": [
        {
          "output_type": "stream",
          "name": "stdout",
          "text": [
            "+----------+-----+-----+-----+-----+-------------+---------+\n",
            "|      Date| Open| High|  Low|Close|       Volume|Adj Close|\n",
            "+----------+-----+-----+-----+-----+-------------+---------+\n",
            "|2012-01-03|59.97|61.06|59.87|60.33|12,668,800.00|    52.62|\n",
            "|2012-01-04|60.21|60.35|59.47|59.71| 9,593,300.00|    52.08|\n",
            "|2012-01-05|59.35|59.62|58.37|59.42|12,768,200.00|    51.83|\n",
            "|2012-01-06|59.42|59.45|58.87|59.00| 8,069,400.00|    51.46|\n",
            "|2012-01-09|59.03|59.55|58.92|59.18| 6,679,300.00|    51.62|\n",
            "|2012-01-10|59.43|59.71|58.98|59.04| 6,907,300.00|    51.49|\n",
            "|2012-01-11|59.06|59.53|59.04|59.40| 6,365,600.00|    51.81|\n",
            "|2012-01-12|59.79|60.00|59.40|59.50| 7,236,400.00|    51.90|\n",
            "|2012-01-13|59.18|59.61|59.01|59.54| 7,729,300.00|    51.93|\n",
            "|2012-01-17|59.87|60.11|59.52|59.85| 8,500,000.00|    52.20|\n",
            "|2012-01-18|59.79|60.03|59.65|60.01| 5,911,400.00|    52.34|\n",
            "|2012-01-19|59.93|60.73|59.75|60.61| 9,234,600.00|    52.86|\n",
            "|2012-01-20|60.75|61.25|60.67|61.01|10,378,800.00|    53.21|\n",
            "|2012-01-23|60.81|60.98|60.51|60.91| 7,134,100.00|    53.13|\n",
            "|2012-01-24|60.75|62.00|60.75|61.39| 7,362,800.00|    53.54|\n",
            "|2012-01-25|61.18|61.61|61.04|61.47| 5,915,800.00|    53.61|\n",
            "|2012-01-26|61.80|61.84|60.77|60.97| 7,436,200.00|    53.18|\n",
            "|2012-01-27|60.86|61.12|60.54|60.71| 6,287,300.00|    52.95|\n",
            "|2012-01-30|60.47|61.32|60.35|61.30| 7,636,900.00|    53.47|\n",
            "|2012-01-31|61.53|61.57|60.58|61.36| 9,761,500.00|    53.52|\n",
            "+----------+-----+-----+-----+-----+-------------+---------+\n",
            "only showing top 20 rows\n",
            "\n"
          ]
        }
      ]
    },
    {
      "cell_type": "markdown",
      "source": [
        "# Analysis"
      ],
      "metadata": {
        "id": "jpwnGEe7CfE-"
      }
    },
    {
      "cell_type": "markdown",
      "source": [
        "What day had the Peak High in Price?\n"
      ],
      "metadata": {
        "id": "dDfn2WABCrVl"
      }
    },
    {
      "cell_type": "code",
      "source": [
        "peak_high_day = newsaf_stock_df.orderBy(newsaf_stock_df['High'].desc()).head(1)\n",
        "print(peak_high_day[0][0])"
      ],
      "metadata": {
        "colab": {
          "base_uri": "https://localhost:8080/"
        },
        "id": "O4x2BkdJCeYC",
        "outputId": "cb204027-c417-4081-bf3c-652d8e360f8e"
      },
      "execution_count": 14,
      "outputs": [
        {
          "output_type": "stream",
          "name": "stdout",
          "text": [
            "2015-01-13\n"
          ]
        }
      ]
    },
    {
      "cell_type": "markdown",
      "source": [
        "What is the mean of the Close column?\n"
      ],
      "metadata": {
        "id": "PoFHeJcbC7Yu"
      }
    },
    {
      "cell_type": "code",
      "source": [
        "from pyspark.sql.functions import mean\n",
        "print(newsaf_stock_df.select(mean('Close')).show())"
      ],
      "metadata": {
        "colab": {
          "base_uri": "https://localhost:8080/"
        },
        "id": "tyy9vHhhC6zQ",
        "outputId": "3d157c7f-c2b9-48c5-9650-9a2d41566339"
      },
      "execution_count": 17,
      "outputs": [
        {
          "output_type": "stream",
          "name": "stdout",
          "text": [
            "+-----------------+\n",
            "|       avg(Close)|\n",
            "+-----------------+\n",
            "|72.38844992050863|\n",
            "+-----------------+\n",
            "\n",
            "None\n"
          ]
        }
      ]
    },
    {
      "cell_type": "markdown",
      "source": [
        " What is the max and min of the Volume column?\n"
      ],
      "metadata": {
        "id": "X1cpBitaDf-m"
      }
    },
    {
      "cell_type": "code",
      "source": [
        "from pyspark.sql.functions import max, min\n",
        "print(newsaf_stock_df.select(max(\"Volume\"), min(\"Volume\")).show())"
      ],
      "metadata": {
        "colab": {
          "base_uri": "https://localhost:8080/"
        },
        "id": "ZD-jWkZPDfHQ",
        "outputId": "b61a2947-28a2-4759-d3bf-6bebba315a97"
      },
      "execution_count": 19,
      "outputs": [
        {
          "output_type": "stream",
          "name": "stdout",
          "text": [
            "+------------+-------------+\n",
            "| max(Volume)|  min(Volume)|\n",
            "+------------+-------------+\n",
            "|9,994,400.00|10,010,500.00|\n",
            "+------------+-------------+\n",
            "\n",
            "None\n"
          ]
        }
      ]
    },
    {
      "cell_type": "markdown",
      "source": [
        "How many days was the Close lower than 60 dollars?"
      ],
      "metadata": {
        "id": "IBuuPo8RDxue"
      }
    },
    {
      "cell_type": "code",
      "source": [
        "print(newsaf_stock_df.filter(newsaf_stock_df['Close'] < 60).count())\n"
      ],
      "metadata": {
        "colab": {
          "base_uri": "https://localhost:8080/"
        },
        "id": "WNRoXXClDw_w",
        "outputId": "37345f04-ffb7-4a35-9621-ccd98467b5f7"
      },
      "execution_count": 20,
      "outputs": [
        {
          "output_type": "stream",
          "name": "stdout",
          "text": [
            "81\n"
          ]
        }
      ]
    },
    {
      "cell_type": "markdown",
      "source": [
        "What percentage of the time was the High greater than 80 dollars?"
      ],
      "metadata": {
        "id": "aS6sEzMdD2AO"
      }
    },
    {
      "cell_type": "code",
      "source": [
        "print((newsaf_stock_df.filter(newsaf_stock_df['High']>80).count()/newsaf_stock_df.count()) * 100)\n"
      ],
      "metadata": {
        "colab": {
          "base_uri": "https://localhost:8080/"
        },
        "id": "fgjq9qvSDzNv",
        "outputId": "621e2935-e6bd-482a-92f9-2600bd694960"
      },
      "execution_count": 21,
      "outputs": [
        {
          "output_type": "stream",
          "name": "stdout",
          "text": [
            "8.426073131955485\n"
          ]
        }
      ]
    },
    {
      "cell_type": "markdown",
      "source": [
        "What is the Pearson correlation between High and Volume?"
      ],
      "metadata": {
        "id": "TM13IMg9D61G"
      }
    },
    {
      "cell_type": "code",
      "source": [
        "from pyspark.sql.functions import corr\n",
        "\n",
        "newsaf_stock_df.select(corr('High','Volume')).show()"
      ],
      "metadata": {
        "colab": {
          "base_uri": "https://localhost:8080/"
        },
        "id": "p7PFHCOhD4I_",
        "outputId": "2c40fcdf-86b9-49cf-cb50-223e8c9449f3"
      },
      "execution_count": 22,
      "outputs": [
        {
          "output_type": "stream",
          "name": "stdout",
          "text": [
            "+------------------+\n",
            "|corr(High, Volume)|\n",
            "+------------------+\n",
            "|              null|\n",
            "+------------------+\n",
            "\n"
          ]
        }
      ]
    },
    {
      "cell_type": "markdown",
      "source": [
        "What is the max High per year?"
      ],
      "metadata": {
        "id": "zm7Y3B12EAF_"
      }
    },
    {
      "cell_type": "code",
      "source": [
        "from pyspark.sql.functions import year\n",
        "yeardf = newsaf_stock_df.withColumn(\"Year\",year(newsaf_stock_df['Date']))\n",
        "max_df = yeardf.groupBy('Year').max()\n",
        "newsaf_stock_df.withColumn(\"Year\", year(newsaf_stock_df[\"Date\"])).groupBy('Year').agg(max(\"High\").alias(\"High\")).show()\n"
      ],
      "metadata": {
        "colab": {
          "base_uri": "https://localhost:8080/"
        },
        "id": "Cubt23J8D8CL",
        "outputId": "ab4a8f9e-efd0-41b0-d151-83489a5dcba2"
      },
      "execution_count": 26,
      "outputs": [
        {
          "output_type": "stream",
          "name": "stdout",
          "text": [
            "+----+-----+\n",
            "|Year| High|\n",
            "+----+-----+\n",
            "|2012|77.60|\n",
            "|2013|81.37|\n",
            "|2014|88.09|\n",
            "|2015|90.97|\n",
            "|2016|75.19|\n",
            "+----+-----+\n",
            "\n"
          ]
        }
      ]
    },
    {
      "cell_type": "markdown",
      "source": [
        "What is the average Close for each Calendar Month?"
      ],
      "metadata": {
        "id": "f9tIri0vEFOQ"
      }
    },
    {
      "cell_type": "code",
      "source": [
        "from pyspark.sql.functions import month, avg\n",
        "\n",
        "newsaf_stock_df.withColumn(\"Month\", month(newsaf_stock_df[\"Date\"])).groupBy('Month').agg(avg(\"Close\").alias(\"Close\")).show()\n",
        ""
      ],
      "metadata": {
        "colab": {
          "base_uri": "https://localhost:8080/"
        },
        "id": "iYkJQUn0D8v4",
        "outputId": "0b9056e4-374a-4686-93b2-d43b5c41a509"
      },
      "execution_count": 23,
      "outputs": [
        {
          "output_type": "stream",
          "name": "stdout",
          "text": [
            "+-----+-----------------+\n",
            "|Month|            Close|\n",
            "+-----+-----------------+\n",
            "|    1|72.38844992050863|\n",
            "+-----+-----------------+\n",
            "\n"
          ]
        }
      ]
    }
  ]
}